{
 "cells": [
  {
   "cell_type": "markdown",
   "id": "8819a562",
   "metadata": {},
   "source": [
    "PATTERN"
   ]
  },
  {
   "cell_type": "markdown",
   "id": "0a1e0073",
   "metadata": {},
   "source": [
    "1.SQUARE PATTERN"
   ]
  },
  {
   "cell_type": "code",
   "execution_count": 3,
   "id": "bff53f94",
   "metadata": {},
   "outputs": [
    {
     "name": "stdout",
     "output_type": "stream",
     "text": [
      "* * * * * \n",
      "* * * * * \n",
      "* * * * * \n",
      "* * * * * \n",
      "* * * * * \n"
     ]
    }
   ],
   "source": [
    "#SQUARE PATTERN\n",
    "n=5\n",
    "for i in range(n):\n",
    "    for j in range(n):\n",
    "        print(\"*\",end=\" \")\n",
    "    print()"
   ]
  },
  {
   "cell_type": "markdown",
   "id": "d1224b2e",
   "metadata": {},
   "source": [
    "2.RIGHT ANGLE TRIANGLE "
   ]
  },
  {
   "cell_type": "code",
   "execution_count": 5,
   "id": "b4cb1ff6",
   "metadata": {},
   "outputs": [
    {
     "name": "stdout",
     "output_type": "stream",
     "text": [
      "* \n",
      "* * \n",
      "* * * \n",
      "* * * * \n",
      "* * * * * \n"
     ]
    }
   ],
   "source": [
    "n=5\n",
    "for i in range(n):\n",
    "    for j in range(i+1):\n",
    "        print(\"*\",end=\" \")\n",
    "    print()"
   ]
  },
  {
   "cell_type": "markdown",
   "id": "f3116461",
   "metadata": {},
   "source": [
    "2.1-> ANOTHER SIDE"
   ]
  },
  {
   "cell_type": "code",
   "execution_count": 7,
   "id": "a904e504",
   "metadata": {},
   "outputs": [
    {
     "name": "stdout",
     "output_type": "stream",
     "text": [
      "* * * * * \n",
      "* * * * \n",
      "* * * \n",
      "* * \n",
      "* \n"
     ]
    }
   ],
   "source": [
    "n=5\n",
    "for i in range(n):\n",
    "    for j in range(i,n):\n",
    "        print(\"*\",end=\" \")\n",
    "    print()"
   ]
  },
  {
   "cell_type": "markdown",
   "id": "fe6108b3",
   "metadata": {},
   "source": [
    "     *\n",
    "   * *\n",
    " * * *\n"
   ]
  },
  {
   "cell_type": "code",
   "execution_count": 15,
   "id": "8a87c785",
   "metadata": {},
   "outputs": [
    {
     "name": "stdout",
     "output_type": "stream",
     "text": [
      "          * \n",
      "        * * \n",
      "      * * * \n",
      "    * * * * \n",
      "  * * * * * \n"
     ]
    }
   ],
   "source": [
    "n=5\n",
    "for i in range(n):\n",
    "    for j in range(i,n):\n",
    "        print(\" \",end=\" \")\n",
    "    for k in range(i+1):\n",
    "        print(\"*\",end=\" \")\n",
    "\n",
    "    print()"
   ]
  },
  {
   "cell_type": "markdown",
   "id": "92d1e9eb",
   "metadata": {},
   "source": [
    "* * * * *\n",
    "  * * * *\n",
    "    * * *\n",
    "      * *\n",
    "        *"
   ]
  },
  {
   "cell_type": "code",
   "execution_count": null,
   "id": "dc716a2e",
   "metadata": {},
   "outputs": [
    {
     "name": "stdout",
     "output_type": "stream",
     "text": [
      "* * * * * \n",
      "  * * * * \n",
      "    * * * \n",
      "      * * \n",
      "        * \n"
     ]
    }
   ],
   "source": [
    "n=5\n",
    "for i in range(n):\n",
    "    for j in range(i):\n",
    "        print(\"\",end=\" \")\n",
    "    for k in range(i,n):\n",
    "        print(\"*\",end=\" \")\n",
    "    print()"
   ]
  },
  {
   "cell_type": "markdown",
   "id": "0e4a5422",
   "metadata": {},
   "source": [
    "HILL PATTERN"
   ]
  },
  {
   "cell_type": "code",
   "execution_count": 21,
   "id": "0af56b9d",
   "metadata": {},
   "outputs": [
    {
     "name": "stdout",
     "output_type": "stream",
     "text": [
      "          * \n",
      "        * * * \n",
      "      * * * * * \n",
      "    * * * * * * * \n",
      "  * * * * * * * * * \n"
     ]
    }
   ],
   "source": [
    "n=5\n",
    "for i in range(n):\n",
    "    for j in range(i,n):\n",
    "        print(\" \",end=\" \")\n",
    "    for k in range(i+1):\n",
    "        print(\"*\",end=\" \")\n",
    "    for l in range(i):\n",
    "        print(\"*\",end=\" \")\n",
    "    \n",
    "    print()\n"
   ]
  },
  {
   "cell_type": "markdown",
   "id": "c92619a1",
   "metadata": {},
   "source": [
    "REVERSE HILL PATTERN"
   ]
  },
  {
   "cell_type": "code",
   "execution_count": 25,
   "id": "371d00b1",
   "metadata": {},
   "outputs": [
    {
     "name": "stdout",
     "output_type": "stream",
     "text": [
      "* * * * * * * * * \n",
      "  * * * * * * * \n",
      "    * * * * * \n",
      "      * * * \n",
      "        * \n"
     ]
    }
   ],
   "source": [
    "n=5\n",
    "for i in range(n):\n",
    "    for j  in range(i):\n",
    "        print(\" \",end=\" \")\n",
    "    for k in range(i,n):\n",
    "        print(\"*\",end=\" \")\n",
    "    for l in range(i+1,n):\n",
    "        print(\"*\",end=\" \")\n",
    "    print()\n"
   ]
  },
  {
   "cell_type": "markdown",
   "id": "520f8b54",
   "metadata": {},
   "source": [
    "DIAMOND PATTERN"
   ]
  },
  {
   "cell_type": "code",
   "execution_count": 29,
   "id": "de0c9140",
   "metadata": {},
   "outputs": [
    {
     "name": "stdout",
     "output_type": "stream",
     "text": [
      "          \n",
      "        * \n",
      "      * * * \n",
      "    * * * * * \n",
      "  * * * * * * * \n",
      "* * * * * * * * * \n",
      "  * * * * * * * \n",
      "    * * * * * \n",
      "      * * * \n",
      "        * \n"
     ]
    }
   ],
   "source": [
    "n=5\n",
    "for i in range(n):\n",
    "    for j in range(i,n):\n",
    "        print(\" \",end=\" \")\n",
    "    for k in range(i):\n",
    "        print(\"*\",end=\" \")\n",
    "    for l in range(i-1):\n",
    "        print(\"*\",end=\" \")\n",
    "    print()\n",
    "for i in range(n):\n",
    "    for a in range(i):\n",
    "        print(\" \",end=\" \")\n",
    "    for b in range(i,n):\n",
    "        print(\"*\",end=\" \")\n",
    "    for c in range(i,n-1):\n",
    "        print(\"*\",end=\" \")\n",
    "    print()"
   ]
  },
  {
   "cell_type": "markdown",
   "id": "f5acdb3f",
   "metadata": {},
   "source": [
    "TRIANGLE"
   ]
  },
  {
   "cell_type": "code",
   "execution_count": 31,
   "id": "207c1ab7",
   "metadata": {},
   "outputs": [
    {
     "name": "stdout",
     "output_type": "stream",
     "text": [
      "     \n",
      "    * \n",
      "   * * \n",
      "  * * * \n",
      " * * * * \n",
      "* * * * * \n"
     ]
    }
   ],
   "source": [
    "n=5 \n",
    "for i in range(n+1):\n",
    "    for j in range(i,n):\n",
    "        print(\"\",end=\" \")\n",
    "    for j in range(i):\n",
    "        print(\"*\",end=\" \")\n",
    "    print()"
   ]
  },
  {
   "cell_type": "markdown",
   "id": "4505f7bc",
   "metadata": {},
   "source": [
    "REVERSE TRIANGLE"
   ]
  },
  {
   "cell_type": "code",
   "execution_count": 53,
   "id": "d6b7a84f",
   "metadata": {},
   "outputs": [
    {
     "name": "stdout",
     "output_type": "stream",
     "text": [
      "* * * * * \n",
      " * * * * \n",
      "  * * * \n",
      "   * * \n",
      "    * \n",
      "     \n"
     ]
    }
   ],
   "source": [
    "n=5\n",
    "for i in range(n+1):\n",
    "    for j in range(i):\n",
    "        print(\"\",end=\" \")\n",
    "    for k in range(i,n):\n",
    "        print(\"*\",end=\" \")\n",
    "\n",
    "    print()\n"
   ]
  }
 ],
 "metadata": {
  "kernelspec": {
   "display_name": "Python 3",
   "language": "python",
   "name": "python3"
  },
  "language_info": {
   "codemirror_mode": {
    "name": "ipython",
    "version": 3
   },
   "file_extension": ".py",
   "mimetype": "text/x-python",
   "name": "python",
   "nbconvert_exporter": "python",
   "pygments_lexer": "ipython3",
   "version": "3.13.4"
  }
 },
 "nbformat": 4,
 "nbformat_minor": 5
}
